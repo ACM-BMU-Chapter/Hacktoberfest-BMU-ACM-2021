{
  "nbformat": 4,
  "nbformat_minor": 0,
  "metadata": {
    "colab": {
      "name": "Linear_Regression_Implementation.ipynb",
      "provenance": [],
      "collapsed_sections": []
    },
    "kernelspec": {
      "name": "python3",
      "display_name": "Python 3"
    },
    "language_info": {
      "name": "python"
    }
  },
  "cells": [
    {
      "cell_type": "markdown",
      "metadata": {
        "id": "vyHG_I1Oo0SO"
      },
      "source": [
        "Code Link : [Link](https://colab.research.google.com/drive/1L9ctdgt4ScGIKVIbw5yf3eYxd2WeveBT?usp=sharing\n",
        ")"
      ]
    },
    {
      "cell_type": "markdown",
      "metadata": {
        "id": "uIazvflmnX6u"
      },
      "source": [
        "Importing Libraries\n"
      ]
    },
    {
      "cell_type": "code",
      "metadata": {
        "id": "bORcj3ukTSdT"
      },
      "source": [
        "#Importing Libraires\n",
        "import pandas as pd\n",
        "import numpy as np\n",
        "import matplotlib.pyplot as plt\n",
        "from scipy import spatial"
      ],
      "execution_count": null,
      "outputs": []
    },
    {
      "cell_type": "markdown",
      "metadata": {
        "id": "w5d04BMOTIVH"
      },
      "source": [
        "Generating DataSet\n"
      ]
    },
    {
      "cell_type": "code",
      "metadata": {
        "id": "DKuuLGtNOaeU"
      },
      "source": [
        "mean = 0 #As e is given as a gaussin distribution \n",
        "def generate_dataset(stdev,size_of_data,no_independent_variable):\n",
        "\n",
        "  X = np.random.randn(size_of_data,no_independent_variable+1)\n",
        "  slope = np.random.randn(no_independent_variable+1,1)\n",
        "  X[:,0] = 1 #Given \n",
        "  # Y = X*slope+e where e is gaussian dist \n",
        "  Y = (np.dot(X,slope)+np.random.normal(loc=mean,scale=stdev))\n",
        "\n",
        "  return X,Y,slope"
      ],
      "execution_count": null,
      "outputs": []
    },
    {
      "cell_type": "markdown",
      "metadata": {
        "id": "6dJ4FOBaqtn4"
      },
      "source": [
        "Manhattan Distance Function"
      ]
    },
    {
      "cell_type": "code",
      "metadata": {
        "id": "KEhg28L-b3kQ"
      },
      "source": [
        "def manhattan_distance(x,y):\n",
        "  return sum(abs(a-b) for a,b in zip(x,y))\n",
        "#To measure the similarity between the predicted and origanle value\n",
        "#Higher the distance lower the similarity and lower the distance higher the similarity\n",
        "#So we can say in a way Manhattan distance is inversly proportional to similarity "
      ],
      "execution_count": null,
      "outputs": []
    },
    {
      "cell_type": "markdown",
      "metadata": {
        "id": "EqRbI1rLqqiY"
      },
      "source": [
        "Linear Regression Function"
      ]
    },
    {
      "cell_type": "code",
      "metadata": {
        "id": "ZdzFUF9xP-Am"
      },
      "source": [
        "# X is array of independent variable\n",
        "# Y is array of dependent variable\n",
        "# epochs no. of epochs\n",
        "# t threshold value \n",
        "def linear_regression(X,Y,epochs,threshold,step_size):\n",
        "  size = np.shape(X[0])[0]\n",
        "  B0 = np.zeros(shape=(size,1))\n",
        "  cost_val = [0]\n",
        "  Epoch_number = 0\n",
        "  for i in range(epochs):\n",
        "    diff = X.dot(B0)-Y\n",
        "    gradient = X.T.dot(diff)/len(Y)\n",
        "    B0 = B0 - step_size*gradient\n",
        "    cst = cost_fuction(X,Y,B0)\n",
        "    Epoch_number = Epoch_number + 1\n",
        "    if abs(cost_val[-1]-cst)<threshold:\n",
        "      break\n",
        "    cost_val.append(cst)\n",
        "  return B0,cost_val"
      ],
      "execution_count": null,
      "outputs": []
    },
    {
      "cell_type": "code",
      "metadata": {
        "id": "HSQvb4agQEiJ"
      },
      "source": [
        "#Defining Cost Function\n",
        "def cost_fuction(X,Y,B):\n",
        "  n = len(Y)\n",
        "  fxn = np.sum((pow(np.dot(X,B)-Y,2)/(2*n)))\n",
        "  return fxn"
      ],
      "execution_count": null,
      "outputs": []
    },
    {
      "cell_type": "code",
      "metadata": {
        "colab": {
          "base_uri": "https://localhost:8080/",
          "height": 424
        },
        "id": "V8vQNlvMZnoU",
        "outputId": "d0b3a115-5877-460a-b8ea-48abd0ba63e5"
      },
      "source": [
        "X,Y,B = generate_dataset(1,1000,10)\n",
        "cost_val = []\n",
        "B0,cost_val = linear_regression(X,Y,epochs=1000,threshold=0.001,step_size=0.01)\n",
        "print(\"Variation of slope\",end=\"\\n\\n\")\n",
        "B0 = pd.DataFrame(B0)\n",
        "B0\n"
      ],
      "execution_count": null,
      "outputs": [
        {
          "output_type": "stream",
          "name": "stdout",
          "text": [
            "Variation of slope\n",
            "\n"
          ]
        },
        {
          "output_type": "execute_result",
          "data": {
            "text/html": [
              "<div>\n",
              "<style scoped>\n",
              "    .dataframe tbody tr th:only-of-type {\n",
              "        vertical-align: middle;\n",
              "    }\n",
              "\n",
              "    .dataframe tbody tr th {\n",
              "        vertical-align: top;\n",
              "    }\n",
              "\n",
              "    .dataframe thead th {\n",
              "        text-align: right;\n",
              "    }\n",
              "</style>\n",
              "<table border=\"1\" class=\"dataframe\">\n",
              "  <thead>\n",
              "    <tr style=\"text-align: right;\">\n",
              "      <th></th>\n",
              "      <th>0</th>\n",
              "    </tr>\n",
              "  </thead>\n",
              "  <tbody>\n",
              "    <tr>\n",
              "      <th>0</th>\n",
              "      <td>-0.872803</td>\n",
              "    </tr>\n",
              "    <tr>\n",
              "      <th>1</th>\n",
              "      <td>-0.050293</td>\n",
              "    </tr>\n",
              "    <tr>\n",
              "      <th>2</th>\n",
              "      <td>-0.084143</td>\n",
              "    </tr>\n",
              "    <tr>\n",
              "      <th>3</th>\n",
              "      <td>1.094801</td>\n",
              "    </tr>\n",
              "    <tr>\n",
              "      <th>4</th>\n",
              "      <td>0.040840</td>\n",
              "    </tr>\n",
              "    <tr>\n",
              "      <th>5</th>\n",
              "      <td>0.261057</td>\n",
              "    </tr>\n",
              "    <tr>\n",
              "      <th>6</th>\n",
              "      <td>1.171476</td>\n",
              "    </tr>\n",
              "    <tr>\n",
              "      <th>7</th>\n",
              "      <td>-1.168586</td>\n",
              "    </tr>\n",
              "    <tr>\n",
              "      <th>8</th>\n",
              "      <td>0.154658</td>\n",
              "    </tr>\n",
              "    <tr>\n",
              "      <th>9</th>\n",
              "      <td>0.016169</td>\n",
              "    </tr>\n",
              "    <tr>\n",
              "      <th>10</th>\n",
              "      <td>0.490518</td>\n",
              "    </tr>\n",
              "  </tbody>\n",
              "</table>\n",
              "</div>"
            ],
            "text/plain": [
              "           0\n",
              "0  -0.872803\n",
              "1  -0.050293\n",
              "2  -0.084143\n",
              "3   1.094801\n",
              "4   0.040840\n",
              "5   0.261057\n",
              "6   1.171476\n",
              "7  -1.168586\n",
              "8   0.154658\n",
              "9   0.016169\n",
              "10  0.490518"
            ]
          },
          "metadata": {},
          "execution_count": 205
        }
      ]
    },
    {
      "cell_type": "code",
      "metadata": {
        "colab": {
          "base_uri": "https://localhost:8080/",
          "height": 436
        },
        "id": "P52kXqI9tLFS",
        "outputId": "a12ecf2b-47bd-4640-da5e-7e56108e903d"
      },
      "source": [
        "print(\"Cost Fuction Variation\")\n",
        "cost_val = pd.DataFrame(cost_val)\n",
        "cost_val"
      ],
      "execution_count": null,
      "outputs": [
        {
          "output_type": "stream",
          "name": "stdout",
          "text": [
            "Cost Fuction Variation\n"
          ]
        },
        {
          "output_type": "execute_result",
          "data": {
            "text/html": [
              "<div>\n",
              "<style scoped>\n",
              "    .dataframe tbody tr th:only-of-type {\n",
              "        vertical-align: middle;\n",
              "    }\n",
              "\n",
              "    .dataframe tbody tr th {\n",
              "        vertical-align: top;\n",
              "    }\n",
              "\n",
              "    .dataframe thead th {\n",
              "        text-align: right;\n",
              "    }\n",
              "</style>\n",
              "<table border=\"1\" class=\"dataframe\">\n",
              "  <thead>\n",
              "    <tr style=\"text-align: right;\">\n",
              "      <th></th>\n",
              "      <th>0</th>\n",
              "    </tr>\n",
              "  </thead>\n",
              "  <tbody>\n",
              "    <tr>\n",
              "      <th>0</th>\n",
              "      <td>0.000000</td>\n",
              "    </tr>\n",
              "    <tr>\n",
              "      <th>1</th>\n",
              "      <td>3.143996</td>\n",
              "    </tr>\n",
              "    <tr>\n",
              "      <th>2</th>\n",
              "      <td>3.082321</td>\n",
              "    </tr>\n",
              "    <tr>\n",
              "      <th>3</th>\n",
              "      <td>3.021879</td>\n",
              "    </tr>\n",
              "    <tr>\n",
              "      <th>4</th>\n",
              "      <td>2.962646</td>\n",
              "    </tr>\n",
              "    <tr>\n",
              "      <th>...</th>\n",
              "      <td>...</td>\n",
              "    </tr>\n",
              "    <tr>\n",
              "      <th>210</th>\n",
              "      <td>0.057738</td>\n",
              "    </tr>\n",
              "    <tr>\n",
              "      <th>211</th>\n",
              "      <td>0.056676</td>\n",
              "    </tr>\n",
              "    <tr>\n",
              "      <th>212</th>\n",
              "      <td>0.055634</td>\n",
              "    </tr>\n",
              "    <tr>\n",
              "      <th>213</th>\n",
              "      <td>0.054611</td>\n",
              "    </tr>\n",
              "    <tr>\n",
              "      <th>214</th>\n",
              "      <td>0.053608</td>\n",
              "    </tr>\n",
              "  </tbody>\n",
              "</table>\n",
              "<p>215 rows × 1 columns</p>\n",
              "</div>"
            ],
            "text/plain": [
              "            0\n",
              "0    0.000000\n",
              "1    3.143996\n",
              "2    3.082321\n",
              "3    3.021879\n",
              "4    2.962646\n",
              "..        ...\n",
              "210  0.057738\n",
              "211  0.056676\n",
              "212  0.055634\n",
              "213  0.054611\n",
              "214  0.053608\n",
              "\n",
              "[215 rows x 1 columns]"
            ]
          },
          "metadata": {},
          "execution_count": 206
        }
      ]
    },
    {
      "cell_type": "markdown",
      "metadata": {
        "id": "3vgQrKXeWguo"
      },
      "source": [
        "Changing value of n "
      ]
    },
    {
      "cell_type": "markdown",
      "metadata": {
        "id": "DfmwEMRUW1En"
      },
      "source": [
        "Manhattan Distance"
      ]
    },
    {
      "cell_type": "code",
      "metadata": {
        "colab": {
          "base_uri": "https://localhost:8080/",
          "height": 265
        },
        "id": "POEznS76IE4o",
        "outputId": "0dd67669-cb71-4b91-84a2-e601b8a883a2"
      },
      "source": [
        "arr = []\n",
        "for i in range(1,200):\n",
        "  X,Y,B = generate_dataset(1,i,20)\n",
        "  cost_val = []\n",
        "  Bp,cost_val = linear_regression(X,Y,epochs=500,threshold=0.001,step_size=0.04)\n",
        "  arr.append(manhattan_distance(B,Bp))\n",
        "b = np.arange(len(arr))\n",
        "plt.scatter(b, arr)\n",
        "plt.show()"
      ],
      "execution_count": null,
      "outputs": [
        {
          "output_type": "display_data",
          "data": {
            "image/png": "[encoded data removed]",
            "text/plain": [
              "<Figure size 432x288 with 1 Axes>"
            ]
          },
          "metadata": {
            "needs_background": "light"
          }
        }
      ]
    },
    {
      "cell_type": "markdown",
      "metadata": {
        "id": "OG4_C07vm0UY"
      },
      "source": [
        "As seen from the above graph with increase the total data points the manhattan distance is also getting decreased which means similarity between actual B and Predicted Bp is increasing as a result that directly implies that with increase in value of n our model is performing better as distance is getting low and low"
      ]
    },
    {
      "cell_type": "markdown",
      "metadata": {
        "id": "cs1CiV6qXZBv"
      },
      "source": [
        "Changing value of standard dev"
      ]
    },
    {
      "cell_type": "markdown",
      "metadata": {
        "id": "AI6GyAnPXdFV"
      },
      "source": [
        "Manhattan Distance"
      ]
    },
    {
      "cell_type": "code",
      "metadata": {
        "colab": {
          "base_uri": "https://localhost:8080/",
          "height": 265
        },
        "id": "m3jSiOek4Ezj",
        "outputId": "3ea7897e-7530-4df3-f32f-6bf5587eecc5"
      },
      "source": [
        "ar = []\n",
        "for i in range(0,100):\n",
        "  X,Y,B = generate_dataset(i,200,20)\n",
        "  cost_val = []\n",
        "  Bp,cost_val = linear_regression(X,Y,epochs=500,threshold=0.001,step_size=0.04)\n",
        "  ar.append(manhattan_distance(B,Bp))\n",
        "b = np.arange(len(ar))\n",
        "plt.scatter(b, ar)\n",
        "plt.show()"
      ],
      "execution_count": null,
      "outputs": [
        {
          "output_type": "display_data",
          "data": {
            "image/png": "[encoded data removed]",
            "text/plain": [
              "<Figure size 432x288 with 1 Axes>"
            ]
          },
          "metadata": {
            "needs_background": "light"
          }
        }
      ]
    },
    {
      "cell_type": "markdown",
      "metadata": {
        "id": "qqs4EBW9mFXL"
      },
      "source": [
        "As seen from the above graph with increase in standard deviation the manhattan distance is also getting increased and spead of data is also getting wider and wider so this is the estimate we can get from our graph "
      ]
    },
    {
      "cell_type": "markdown",
      "metadata": {
        "id": "bAg8UJEupRwy"
      },
      "source": [
        "Results:\n",
        "1. Increasing the number of data points will provide us a better estimate of B from our model. Where number of parameter are constant\n",
        "\n",
        "```\n",
        "Y = X*B+e\n",
        "where B is slope of that line \n",
        "e is a gaussian function\n",
        "```\n",
        "\n",
        "\n",
        "2. Increasing the standard deviation is reducing the similarity of actual and predicted value that results in decrement of accuracy of our Linear Regression Model. This will not provide a good estimate to the value B(Slope of Best Fit Line) and other paramters were kept constant in order to observe the result."
      ]
    }
  ]
}